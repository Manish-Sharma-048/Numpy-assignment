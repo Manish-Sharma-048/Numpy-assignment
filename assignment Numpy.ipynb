{
 "cells": [
  {
   "cell_type": "markdown",
   "metadata": {},
   "source": [
    "Q1. Import numpy as `np` and print the version number."
   ]
  },
  {
   "cell_type": "code",
   "execution_count": 1,
   "metadata": {},
   "outputs": [
    {
     "name": "stdout",
     "output_type": "stream",
     "text": [
      "The Numpy version number is 1.19.2\n"
     ]
    }
   ],
   "source": [
    "import numpy as np\n",
    "print(\"The Numpy version number is\", np.__version__)"
   ]
  },
  {
   "cell_type": "markdown",
   "metadata": {},
   "source": [
    "Q2. Create a 1D array of numbers from 0 to 9"
   ]
  },
  {
   "cell_type": "code",
   "execution_count": 2,
   "metadata": {},
   "outputs": [
    {
     "data": {
      "text/plain": [
       "array([0, 1, 2, 3, 4, 5, 6, 7, 8])"
      ]
     },
     "execution_count": 2,
     "metadata": {},
     "output_type": "execute_result"
    }
   ],
   "source": [
    "a=np.arange(0,9)\n",
    "a"
   ]
  },
  {
   "cell_type": "markdown",
   "metadata": {},
   "source": [
    "Q3. Extract all odd numbers from numpy array"
   ]
  },
  {
   "cell_type": "code",
   "execution_count": 3,
   "metadata": {},
   "outputs": [
    {
     "data": {
      "text/plain": [
       "array([0, 1, 2, 3, 4, 5, 6, 7, 8])"
      ]
     },
     "execution_count": 3,
     "metadata": {},
     "output_type": "execute_result"
    }
   ],
   "source": [
    "a[a%2!=0]\n",
    "a"
   ]
  },
  {
   "cell_type": "markdown",
   "metadata": {},
   "source": [
    "Q4. Replace all odd numbers in array with -1"
   ]
  },
  {
   "cell_type": "code",
   "execution_count": 4,
   "metadata": {},
   "outputs": [
    {
     "data": {
      "text/plain": [
       "array([-1, -1, 40, -1, 18,  8, -1, 98, -1, -1])"
      ]
     },
     "execution_count": 4,
     "metadata": {},
     "output_type": "execute_result"
    }
   ],
   "source": [
    "a = np.random.randint(0,99,10)\n",
    "for i in range(len(a)):\n",
    "    if a[i]%2!=0:\n",
    "        a[i] = -1\n",
    "a"
   ]
  },
  {
   "cell_type": "markdown",
   "metadata": {},
   "source": [
    "Q5. Convert a 1D array to a 2D array with 2 rows"
   ]
  },
  {
   "cell_type": "code",
   "execution_count": 5,
   "metadata": {},
   "outputs": [
    {
     "name": "stdout",
     "output_type": "stream",
     "text": [
      "[32 23 86 39 57 77 73 63 36]\n"
     ]
    },
    {
     "data": {
      "text/plain": [
       "array([[32, 23, 86],\n",
       "       [39, 57, 77],\n",
       "       [73, 63, 36]])"
      ]
     },
     "execution_count": 5,
     "metadata": {},
     "output_type": "execute_result"
    }
   ],
   "source": [
    "a = np.random.randint(0,99,9)\n",
    "print(a)\n",
    "a = a.reshape(3,-1)\n",
    "a"
   ]
  },
  {
   "cell_type": "markdown",
   "metadata": {},
   "source": [
    "Q6. Stack the arrays a and b horizontally."
   ]
  },
  {
   "cell_type": "code",
   "execution_count": 6,
   "metadata": {},
   "outputs": [
    {
     "name": "stdout",
     "output_type": "stream",
     "text": [
      "[16 72 94 44 21 32 84 28 71] \n",
      " [65 78 80 67 77 16 27 44 95] \n",
      " [16 72 94 44 21 32 84 28 71 65 78 80 67 77 16 27 44 95]\n"
     ]
    }
   ],
   "source": [
    "a = np.random.randint(0,99,9)\n",
    "b = np.random.randint(0,99,9)\n",
    "c = np.hstack((a,b))\n",
    "print(a,'\\n',b,'\\n',c)"
   ]
  },
  {
   "cell_type": "markdown",
   "metadata": {},
   "source": [
    "Q7. Get the common items between a and b"
   ]
  },
  {
   "cell_type": "code",
   "execution_count": 7,
   "metadata": {},
   "outputs": [
    {
     "name": "stdout",
     "output_type": "stream",
     "text": [
      "[11 11 14  5 10  9 14 10  6  6]\n",
      "[ 1  1  2 11  7 10  3  6  4  1]\n",
      "[]\n"
     ]
    }
   ],
   "source": [
    "li = []\n",
    "a = np.random.randint(1,15,10)\n",
    "print(a)\n",
    "b = np.random.randint(1,15,10)\n",
    "print(b)\n",
    "print(a[a==b])"
   ]
  },
  {
   "cell_type": "markdown",
   "metadata": {},
   "source": [
    "Q8. From array a remove all items present in array b"
   ]
  },
  {
   "cell_type": "code",
   "execution_count": 8,
   "metadata": {},
   "outputs": [
    {
     "name": "stdout",
     "output_type": "stream",
     "text": [
      "[ 2  8  7  6  9 10  9  8  2  4]\n",
      "[ 4  5  1  6  6  6  5  1 11  5]\n",
      "[2, 8, 7, 9, 10, 9, 8, 2] item/s not present in array b\n"
     ]
    }
   ],
   "source": [
    "li = []\n",
    "a = np.random.randint(1,15,10)\n",
    "print(a)\n",
    "b = np.random.randint(1,15,10)\n",
    "print(b)\n",
    "for i in range(len(a)):\n",
    "    if a[i] in b:\n",
    "        pass\n",
    "    else:\n",
    "        li.append(a[i])\n",
    "print(li,\"item/s not present in array b\")"
   ]
  },
  {
   "cell_type": "markdown",
   "metadata": {},
   "source": [
    "Q9. Get the positions where elements of a and b match"
   ]
  },
  {
   "cell_type": "code",
   "execution_count": 9,
   "metadata": {},
   "outputs": [
    {
     "name": "stdout",
     "output_type": "stream",
     "text": [
      "[12  9 14  3  5 13  7 12  3  5]\n",
      "[ 9 10  2  4  9  7  9 12  7  7]\n",
      "[[7]]\n"
     ]
    }
   ],
   "source": [
    "li=[]\n",
    "a = np.random.randint(1,15,10)\n",
    "print(a)\n",
    "b = np.random.randint(1,15,10)\n",
    "print(b)\n",
    "print(np.argwhere(a==b))"
   ]
  },
  {
   "cell_type": "markdown",
   "metadata": {},
   "source": [
    "Q10. Get all items between 5 and 10 from a."
   ]
  },
  {
   "cell_type": "code",
   "execution_count": 10,
   "metadata": {},
   "outputs": [
    {
     "name": "stdout",
     "output_type": "stream",
     "text": [
      "[ 4  7 14 13  8  1 13 11 10  1]\n",
      "[ 1 13 11 10  1]\n"
     ]
    }
   ],
   "source": [
    "a = np.random.randint(1,15,10)\n",
    "print(a)\n",
    "print(a[5:10])"
   ]
  },
  {
   "cell_type": "markdown",
   "metadata": {},
   "source": [
    "Q11. Swap columns 1 and 2 in the array arr."
   ]
  },
  {
   "cell_type": "code",
   "execution_count": 15,
   "metadata": {},
   "outputs": [
    {
     "name": "stdout",
     "output_type": "stream",
     "text": [
      "[[1 2]\n",
      " [3 4]]\n",
      "[[2 1]\n",
      " [4 3]]\n"
     ]
    }
   ],
   "source": [
    "arr = np.array([[1,2],[3,4]])\n",
    "print(arr)\n",
    "print(np.fliplr(arr))"
   ]
  },
  {
   "cell_type": "markdown",
   "metadata": {},
   "source": [
    "Q12. Swap rows 1 and 2 in the array arr"
   ]
  },
  {
   "cell_type": "code",
   "execution_count": 16,
   "metadata": {},
   "outputs": [
    {
     "name": "stdout",
     "output_type": "stream",
     "text": [
      "[[1 2]\n",
      " [3 4]]\n",
      "[[3 4]\n",
      " [1 2]]\n"
     ]
    }
   ],
   "source": [
    "arr = np.array([[1,2],[3,4]])\n",
    "print(arr)\n",
    "print(np.flipud(arr))"
   ]
  },
  {
   "cell_type": "code",
   "execution_count": null,
   "metadata": {},
   "outputs": [],
   "source": []
  }
 ],
 "metadata": {
  "kernelspec": {
   "display_name": "Python 3",
   "language": "python",
   "name": "python3"
  },
  "language_info": {
   "codemirror_mode": {
    "name": "ipython",
    "version": 3
   },
   "file_extension": ".py",
   "mimetype": "text/x-python",
   "name": "python",
   "nbconvert_exporter": "python",
   "pygments_lexer": "ipython3",
   "version": "3.8.5"
  }
 },
 "nbformat": 4,
 "nbformat_minor": 4
}
